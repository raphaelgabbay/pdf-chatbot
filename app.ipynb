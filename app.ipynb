{
 "cells": [
  {
   "cell_type": "markdown",
   "id": "ee3f1cba",
   "metadata": {},
   "source": [
    "# PDF Chatbot\n",
    "## get_pdf_text function"
   ]
  },
  {
   "cell_type": "code",
   "execution_count": null,
   "id": "e7d1b8da",
   "metadata": {
    "vscode": {
     "languageId": "plaintext"
    }
   },
   "outputs": [],
   "source": [
    "pip install requirements.txt -q"
   ]
  },
  {
   "cell_type": "code",
   "execution_count": null,
   "id": "d44bfd87",
   "metadata": {
    "vscode": {
     "languageId": "plaintext"
    }
   },
   "outputs": [],
   "source": [
    "def get_pdf_text(pdf_docs):\n",
    "    "
   ]
  }
 ],
 "metadata": {
  "language_info": {
   "name": "python"
  }
 },
 "nbformat": 4,
 "nbformat_minor": 5
}
